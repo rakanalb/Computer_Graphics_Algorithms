{
  "cells": [
    {
      "cell_type": "markdown",
      "metadata": {
        "id": "Iet_vrSPGvSc"
      },
      "source": [
        "# **Digital Differential Analyzer (DDA) Calculator**\n",
        "**Plug in your points and let the program do the rest.**"
      ]
    },
    {
      "cell_type": "code",
      "execution_count": 1,
      "metadata": {
        "colab": {
          "base_uri": "https://localhost:8080/"
        },
        "id": "a1meVt_eHYl8",
        "outputId": "0611bf04-3d8a-409f-8c17-3fd4f4b7b2f5"
      },
      "outputs": [
        {
          "name": "stdout",
          "output_type": "stream",
          "text": [
            "Thanks! Your line goes from (1,3) to (17,9).\n"
          ]
        }
      ],
      "source": [
        "# This program applies the Digital Differential Analyzer Algorithm used in computer graphic rasterization.\n",
        "# It takes 4 inputs and outputs a DDA Table consistent of all the points to be drawn on the screen.\n",
        "\n",
        "import plotly.express as px\n",
        "import pandas as pd\n",
        "\n",
        "x1, y1 = input(\"What is your start point? (In the form: x,y): \").split(\",\")\n",
        "x2, y2 = input(\"What is your end point? (In the form: x,y): \").split(\",\")\n",
        "print(\"Thanks! Your line goes from (\" + x1 + \",\" + y1 + \") to (\" + x2 + \",\" + y2 + \").\")\n",
        "\n",
        "x1 = int(x1)\n",
        "x2 = int(x2)\n",
        "y1 = int(y1)\n",
        "y2 = int(y2)"
      ]
    },
    {
      "cell_type": "markdown",
      "metadata": {
        "id": "PVNj9r-BH5g1"
      },
      "source": [
        "Please ensure you input your start & end points as nothing other than \"x,y\"."
      ]
    },
    {
      "cell_type": "markdown",
      "metadata": {
        "id": "HWukjt6hIIcl"
      },
      "source": [
        "# Now let's find:\n",
        "* Delta X\n",
        "* Delta Y\n",
        "* Steps\n",
        "* K\n",
        "* dx\n",
        "* dy"
      ]
    },
    {
      "cell_type": "code",
      "execution_count": 2,
      "metadata": {
        "id": "ThQ2eIerH8AF"
      },
      "outputs": [],
      "source": [
        "deltax = x2 - x1\n",
        "deltay = y2 - y1\n",
        "slope = deltay/deltax\n",
        "\n",
        "if deltay > deltax:\n",
        "    steps = deltay\n",
        "else:\n",
        "    steps = deltax\n",
        "\n",
        "dx = deltax/steps\n",
        "dy = deltay/steps\n",
        "\n",
        "xlist = [x1]\n",
        "ylist = [y1]\n",
        "\n",
        "k = []\n",
        "\n",
        "for i in range(0, steps+1):\n",
        "    k.append(i)"
      ]
    },
    {
      "cell_type": "markdown",
      "metadata": {
        "id": "If6dL-5LJevW"
      },
      "source": [
        "# Let's round our values and display our DDA Table:"
      ]
    },
    {
      "cell_type": "code",
      "execution_count": 3,
      "metadata": {
        "id": "alxpox-AJfKE"
      },
      "outputs": [],
      "source": [
        "%matplotlib inline\n",
        "import matplotlib.pyplot as plt\n",
        "import numpy as np\n",
        "\n",
        "i = 0\n",
        "\n",
        "while i < steps:\n",
        "    xlist.append(xlist[-1] + dx)\n",
        "    ylist.append(ylist[-1] + dy)\n",
        "    i += 1\n",
        "\n",
        "xrounded = []\n",
        "yrounded = []\n",
        "newxlist = []\n",
        "newylist = []\n",
        "\n",
        "for j in xlist:\n",
        "    xrounded.append(round(j))\n",
        "    newxlist.append(round(j,2))\n",
        "\n",
        "for j in ylist:\n",
        "    yrounded.append(round(j))\n",
        "    newylist.append(round(j,2))\n",
        "\n",
        "allvalues = {'k': k, 'X Values': newxlist, 'Y Values': newylist, 'X Rounded': xrounded, 'Y Rounded': yrounded}\n",
        "df = pd.DataFrame(allvalues)"
      ]
    },
    {
      "cell_type": "code",
      "execution_count": 4,
      "metadata": {
        "colab": {
          "base_uri": "https://localhost:8080/",
          "height": 707
        },
        "id": "Kl4Fv4pVuWkZ",
        "outputId": "aaf839c0-1529-49e0-ceda-76ceae88306b"
      },
      "outputs": [
        {
          "name": "stdout",
          "output_type": "stream",
          "text": [
            "Your DDA Table:\n",
            "     k  X Values  Y Values  X Rounded  Y Rounded\n",
            "0    0       1.0      3.00          1          3\n",
            "1    1       2.0      3.38          2          3\n",
            "2    2       3.0      3.75          3          4\n",
            "3    3       4.0      4.12          4          4\n",
            "4    4       5.0      4.50          5          4\n",
            "5    5       6.0      4.88          6          5\n",
            "6    6       7.0      5.25          7          5\n",
            "7    7       8.0      5.62          8          6\n",
            "8    8       9.0      6.00          9          6\n",
            "9    9      10.0      6.38         10          6\n",
            "10  10      11.0      6.75         11          7\n",
            "11  11      12.0      7.12         12          7\n",
            "12  12      13.0      7.50         13          8\n",
            "13  13      14.0      7.88         14          8\n",
            "14  14      15.0      8.25         15          8\n",
            "15  15      16.0      8.62         16          9\n",
            "16  16      17.0      9.00         17          9\n"
          ]
        },
        {
          "data": {
            "image/png": "[encoded data removed]",
            "text/plain": [
              "<Figure size 640x480 with 1 Axes>"
            ]
          },
          "metadata": {},
          "output_type": "display_data"
        }
      ],
      "source": [
        "print(\"Your DDA Table:\")\n",
        "print(df)\n",
        "xplot = xrounded\n",
        "yplot = yrounded\n",
        "offset = 1\n",
        "plt.grid()\n",
        "plt.locator_params(axis=\"both\", integer=True,)\n",
        "plt.xlim([min(xplot)-offset,max(xplot)+offset])\n",
        "plt.ylim([min(yplot)-offset,max(yplot)+offset])\n",
        "plt.plot(xplot, yplot)\n",
        "plt.show()"
      ]
    }
  ],
  "metadata": {
    "colab": {
      "provenance": []
    },
    "kernelspec": {
      "display_name": "Python 3",
      "name": "python3"
    },
    "language_info": {
      "codemirror_mode": {
        "name": "ipython",
        "version": 3
      },
      "file_extension": ".py",
      "mimetype": "text/x-python",
      "name": "python",
      "nbconvert_exporter": "python",
      "pygments_lexer": "ipython3",
      "version": "3.11.4"
    }
  },
  "nbformat": 4,
  "nbformat_minor": 0
}
