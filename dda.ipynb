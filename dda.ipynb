{
  "nbformat": 4,
  "nbformat_minor": 0,
  "metadata": {
    "colab": {
      "provenance": []
    },
    "kernelspec": {
      "name": "python3",
      "display_name": "Python 3"
    },
    "language_info": {
      "name": "python"
    }
  },
  "cells": [
    {
      "cell_type": "markdown",
      "source": [
        "# **Digital Differential Analyzer (DDA) Calculator**\n",
        "**Plug in your points and let the program do the rest.**"
      ],
      "metadata": {
        "id": "Iet_vrSPGvSc"
      }
    },
    {
      "cell_type": "code",
      "source": [
        "# This program applies the Digital Differential Analyzer Algorithm used in computer graphic rasterization.\n",
        "# It takes 4 inputs and outputs a DDA Table consistent of all the points to be drawn on the screen.\n",
        "# Author: Rakan Albadeen\n",
        "# Date: 12/8/2023\n",
        "\n",
        "import plotly.express as px\n",
        "import pandas as pd\n",
        "\n",
        "x1, y1 = input(\"What is your start point? (In the form: x,y): \").split(\",\")\n",
        "x2, y2 = input(\"What is your end point? (In the form: x,y): \").split(\",\")\n",
        "print(\"Thanks! Your line goes from (\" + x1 + \",\" + y1 + \") to (\" + x2 + \",\" + y2 + \").\")\n",
        "\n",
        "x1 = int(x1)\n",
        "x2 = int(x2)\n",
        "y1 = int(y1)\n",
        "y2 = int(y2)"
      ],
      "metadata": {
        "id": "a1meVt_eHYl8",
        "colab": {
          "base_uri": "https://localhost:8080/"
        },
        "outputId": "0611bf04-3d8a-409f-8c17-3fd4f4b7b2f5"
      },
      "execution_count": 2,
      "outputs": [
        {
          "output_type": "stream",
          "name": "stdout",
          "text": [
            "What is your start point? (In the form: x,y): 1,2\n",
            "What is your end point? (In the form: x,y): 10,15\n",
            "Thanks! Your line goes from (1,2) to (10,15).\n"
          ]
        }
      ]
    },
    {
      "cell_type": "markdown",
      "source": [
        "Please ensure you input your start & end points as nothing other than \"x,y\"."
      ],
      "metadata": {
        "id": "PVNj9r-BH5g1"
      }
    },
    {
      "cell_type": "markdown",
      "source": [
        "# Now let's find:\n",
        "* Delta X\n",
        "* Delta Y\n",
        "* Steps\n",
        "* K\n",
        "* dx\n",
        "* dy"
      ],
      "metadata": {
        "id": "HWukjt6hIIcl"
      }
    },
    {
      "cell_type": "code",
      "source": [
        "deltax = x2 - x1\n",
        "deltay = y2 - y1\n",
        "slope = deltay/deltax\n",
        "\n",
        "if deltay > deltax:\n",
        "    steps = deltay\n",
        "else:\n",
        "    steps = deltax\n",
        "\n",
        "dx = deltax/steps\n",
        "dy = deltay/steps\n",
        "\n",
        "xlist = [x1]\n",
        "ylist = [y1]\n",
        "\n",
        "k = []\n",
        "\n",
        "for i in range(0, steps+1):\n",
        "    k.append(i)"
      ],
      "metadata": {
        "id": "ThQ2eIerH8AF"
      },
      "execution_count": 3,
      "outputs": []
    },
    {
      "cell_type": "markdown",
      "source": [
        "# Let's round our values and display our DDA Table:"
      ],
      "metadata": {
        "id": "If6dL-5LJevW"
      }
    },
    {
      "cell_type": "code",
      "source": [
        "%matplotlib inline\n",
        "import matplotlib.pyplot as plt\n",
        "import numpy as np\n",
        "\n",
        "i = 0\n",
        "\n",
        "while i < steps:\n",
        "    xlist.append(xlist[-1] + dx)\n",
        "    ylist.append(ylist[-1] + dy)\n",
        "    i += 1\n",
        "\n",
        "xrounded = []\n",
        "yrounded = []\n",
        "newxlist = []\n",
        "newylist = []\n",
        "\n",
        "for j in xlist:\n",
        "    xrounded.append(round(j))\n",
        "    newxlist.append(round(j,2))\n",
        "\n",
        "for j in ylist:\n",
        "    yrounded.append(round(j))\n",
        "    newylist.append(round(j,2))\n",
        "\n",
        "allvalues = {'k': k, 'X Values': newxlist, 'Y Values': newylist, 'X Rounded': xrounded, 'Y Rounded': yrounded}\n",
        "#plotvalues = {'X Rounded': xrounded, 'Y Rounded': yrounded}\n",
        "df = pd.DataFrame(allvalues)\n",
        "#plotdf = pd.DataFrame(plotvalues)\n",
        "\n"
      ],
      "metadata": {
        "id": "alxpox-AJfKE"
      },
      "execution_count": 4,
      "outputs": []
    },
    {
      "cell_type": "code",
      "source": [
        "print(\"Your DDA Table:\")\n",
        "print(df)\n",
        "\n",
        "xplot = xrounded\n",
        "yplot = yrounded\n",
        "offset = 1\n",
        "plt.grid()\n",
        "plt.locator_params(axis=\"both\", integer=True,)\n",
        "plt.xlim([min(xplot)-offset,max(xplot)+offset])\n",
        "plt.ylim([min(yplot)-offset,max(yplot)+offset])\n",
        "plt.plot(xplot, yplot)\n",
        "plt.show()"
      ],
      "metadata": {
        "colab": {
          "base_uri": "https://localhost:8080/",
          "height": 707
        },
        "id": "Kl4Fv4pVuWkZ",
        "outputId": "aaf839c0-1529-49e0-ceda-76ceae88306b"
      },
      "execution_count": 5,
      "outputs": [
        {
          "output_type": "stream",
          "name": "stdout",
          "text": [
            "Your DDA Table:\n",
            "     k  X Values  Y Values  X Rounded  Y Rounded\n",
            "0    0      1.00       2.0          1          2\n",
            "1    1      1.69       3.0          2          3\n",
            "2    2      2.38       4.0          2          4\n",
            "3    3      3.08       5.0          3          5\n",
            "4    4      3.77       6.0          4          6\n",
            "5    5      4.46       7.0          4          7\n",
            "6    6      5.15       8.0          5          8\n",
            "7    7      5.85       9.0          6          9\n",
            "8    8      6.54      10.0          7         10\n",
            "9    9      7.23      11.0          7         11\n",
            "10  10      7.92      12.0          8         12\n",
            "11  11      8.62      13.0          9         13\n",
            "12  12      9.31      14.0          9         14\n",
            "13  13     10.00      15.0         10         15\n"
          ]
        },
        {
          "output_type": "display_data",
          "data": {
            "text/plain": [
              "<Figure size 640x480 with 1 Axes>"
            ],
            "image/png": "[encoded data removed]"
          },
          "metadata": {}
        }
      ]
    },
    {
      "cell_type": "code",
      "source": [],
      "metadata": {
        "id": "gMIHItkuxYr4"
      },
      "execution_count": null,
      "outputs": []
    }
  ]
}