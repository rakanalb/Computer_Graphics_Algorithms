{
  "cells": [
    {
      "cell_type": "markdown",
      "metadata": {
        "id": "Iet_vrSPGvSc"
      },
      "source": [
        "# **Digital Differential Analyzer (DDA) Calculator**\n",
        "**Plug in your points and let the program do the rest.**"
      ]
    },
    {
      "cell_type": "code",
      "execution_count": null,
      "metadata": {
        "colab": {
          "base_uri": "https://localhost:8080/"
        },
        "id": "a1meVt_eHYl8",
        "outputId": "0611bf04-3d8a-409f-8c17-3fd4f4b7b2f5"
      },
      "outputs": [],
      "source": [
        "# This program applies the Digital Differential Analyzer Algorithm used in computer graphic rasterization.\n",
        "# It takes 4 inputs and outputs a DDA Table consistent of all the points to be drawn on the screen.\n",
        "\n",
        "import plotly.express as px\n",
        "import pandas as pd\n",
        "\n",
        "x1, y1 = input(\"What is your start point? (In the form: x,y): \").split(\",\")\n",
        "x2, y2 = input(\"What is your end point? (In the form: x,y): \").split(\",\")\n",
        "print(\"Thanks! Your line goes from (\" + x1 + \",\" + y1 + \") to (\" + x2 + \",\" + y2 + \").\")\n",
        "\n",
        "x1 = int(x1)\n",
        "x2 = int(x2)\n",
        "y1 = int(y1)\n",
        "y2 = int(y2)"
      ]
    },
    {
      "cell_type": "markdown",
      "metadata": {
        "id": "PVNj9r-BH5g1"
      },
      "source": [
        "Please ensure you input your start & end points as nothing other than \"x,y\"."
      ]
    },
    {
      "cell_type": "markdown",
      "metadata": {
        "id": "HWukjt6hIIcl"
      },
      "source": [
        "# Now let's find:\n",
        "* Delta X\n",
        "* Delta Y\n",
        "* Steps\n",
        "* K\n",
        "* dx\n",
        "* dy"
      ]
    },
    {
      "cell_type": "code",
      "execution_count": null,
      "metadata": {
        "id": "ThQ2eIerH8AF"
      },
      "outputs": [],
      "source": [
        "deltax = x2 - x1\n",
        "deltay = y2 - y1\n",
        "slope = deltay/deltax\n",
        "\n",
        "if deltay > deltax:\n",
        "    steps = deltay\n",
        "else:\n",
        "    steps = deltax\n",
        "\n",
        "dx = deltax/steps\n",
        "dy = deltay/steps\n",
        "\n",
        "xlist = [x1]\n",
        "ylist = [y1]\n",
        "\n",
        "k = []\n",
        "\n",
        "for i in range(0, steps+1):\n",
        "    k.append(i)"
      ]
    },
    {
      "cell_type": "markdown",
      "metadata": {
        "id": "If6dL-5LJevW"
      },
      "source": [
        "# Let's round our values and display our DDA Table:"
      ]
    },
    {
      "cell_type": "code",
      "execution_count": null,
      "metadata": {
        "id": "alxpox-AJfKE"
      },
      "outputs": [],
      "source": [
        "%matplotlib inline\n",
        "import matplotlib.pyplot as plt\n",
        "import numpy as np\n",
        "\n",
        "i = 0\n",
        "\n",
        "while i < steps:\n",
        "    xlist.append(xlist[-1] + dx)\n",
        "    ylist.append(ylist[-1] + dy)\n",
        "    i += 1\n",
        "\n",
        "xrounded = []\n",
        "yrounded = []\n",
        "newxlist = []\n",
        "newylist = []\n",
        "\n",
        "for j in xlist:\n",
        "    xrounded.append(round(j))\n",
        "    newxlist.append(round(j,2))\n",
        "\n",
        "for j in ylist:\n",
        "    yrounded.append(round(j))\n",
        "    newylist.append(round(j,2))\n",
        "\n",
        "allvalues = {'k': k, 'X Values': newxlist, 'Y Values': newylist, 'X Rounded': xrounded, 'Y Rounded': yrounded}\n",
        "#plotvalues = {'X Rounded': xrounded, 'Y Rounded': yrounded}\n",
        "df = pd.DataFrame(allvalues)\n",
        "#plotdf = pd.DataFrame(plotvalues)\n",
        "\n"
      ]
    },
    {
      "cell_type": "code",
      "execution_count": null,
      "metadata": {
        "colab": {
          "base_uri": "https://localhost:8080/",
          "height": 707
        },
        "id": "Kl4Fv4pVuWkZ",
        "outputId": "aaf839c0-1529-49e0-ceda-76ceae88306b"
      },
      "outputs": [],
      "source": [
        "print(\"Your DDA Table:\")\n",
        "print(df)\n",
        "\n",
        "xplot = xrounded\n",
        "yplot = yrounded\n",
        "offset = 1\n",
        "plt.grid()\n",
        "plt.locator_params(axis=\"both\", integer=True,)\n",
        "plt.xlim([min(xplot)-offset,max(xplot)+offset])\n",
        "plt.ylim([min(yplot)-offset,max(yplot)+offset])\n",
        "plt.plot(xplot, yplot)\n",
        "plt.show()"
      ]
    },
    {
      "cell_type": "code",
      "execution_count": null,
      "metadata": {
        "id": "gMIHItkuxYr4"
      },
      "outputs": [],
      "source": []
    }
  ],
  "metadata": {
    "colab": {
      "provenance": []
    },
    "kernelspec": {
      "display_name": "Python 3",
      "name": "python3"
    },
    "language_info": {
      "codemirror_mode": {
        "name": "ipython",
        "version": 3
      },
      "file_extension": ".py",
      "mimetype": "text/x-python",
      "name": "python",
      "nbconvert_exporter": "python",
      "pygments_lexer": "ipython3",
      "version": "3.11.4"
    }
  },
  "nbformat": 4,
  "nbformat_minor": 0
}
