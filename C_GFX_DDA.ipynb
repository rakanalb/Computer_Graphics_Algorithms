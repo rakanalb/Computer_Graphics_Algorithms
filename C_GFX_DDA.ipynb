{
  "nbformat": 4,
  "nbformat_minor": 0,
  "metadata": {
    "colab": {
      "provenance": []
    },
    "kernelspec": {
      "name": "python3",
      "display_name": "Python 3"
    },
    "language_info": {
      "name": "python"
    }
  },
  "cells": [
    {
      "cell_type": "markdown",
      "source": [
        "# **Digital Differential Analyzer (DDA) Calculator**\n",
        "**Plug in your points and let the program do the rest.**"
      ],
      "metadata": {
        "id": "Iet_vrSPGvSc"
      }
    },
    {
      "cell_type": "code",
      "source": [
        "# This program applies the Digital Differential Analyzer Algorithm used in computer graphic rasterization.\n",
        "# It takes 4 inputs and outputs a DDA Table consistent of all the points to be drawn on the screen.\n",
        "# Author: Rakan Albadeen\n",
        "# Date: 12/8/2023\n",
        "\n",
        "import pandas as pd\n",
        "\n",
        "x1, y1 = input(\"What is your start point? (In the form: x,y): \").split(\",\")\n",
        "x2, y2 = input(\"What is your end point? (In the form: x,y): \").split(\",\")\n",
        "print(\"Thanks! Your line goes from (\" + x1 + \",\" + y1 + \") to (\" + x2 + \",\" + y2 + \").\")\n",
        "\n",
        "x1 = int(x1)\n",
        "x2 = int(x2)\n",
        "y1 = int(y1)\n",
        "y2 = int(y2)"
      ],
      "metadata": {
        "id": "a1meVt_eHYl8"
      },
      "execution_count": null,
      "outputs": []
    },
    {
      "cell_type": "markdown",
      "source": [
        "Please ensure you input your start & end points as nothing other than \"x,y\"."
      ],
      "metadata": {
        "id": "PVNj9r-BH5g1"
      }
    },
    {
      "cell_type": "markdown",
      "source": [
        "# Now let's find:\n",
        "* Delta X\n",
        "* Delta Y\n",
        "* Steps\n",
        "* K\n",
        "* dx\n",
        "* dy"
      ],
      "metadata": {
        "id": "HWukjt6hIIcl"
      }
    },
    {
      "cell_type": "code",
      "source": [
        "deltax = x2 - x1\n",
        "deltay = y2 - y1\n",
        "slope = deltay/deltax\n",
        "\n",
        "if deltay > deltax:\n",
        "    steps = deltay\n",
        "else:\n",
        "    steps = deltax\n",
        "\n",
        "dx = deltax/steps\n",
        "dy = deltay/steps\n",
        "\n",
        "xlist = [x1]\n",
        "ylist = [y1]\n",
        "\n",
        "k = []\n",
        "\n",
        "for i in range(0, steps+1):\n",
        "    k.append(i)"
      ],
      "metadata": {
        "id": "ThQ2eIerH8AF"
      },
      "execution_count": null,
      "outputs": []
    },
    {
      "cell_type": "markdown",
      "source": [
        "# Let's round our values and display our DDA Table:"
      ],
      "metadata": {
        "id": "If6dL-5LJevW"
      }
    },
    {
      "cell_type": "code",
      "source": [
        "i = 0\n",
        "\n",
        "while i < steps:\n",
        "    xlist.append(xlist[-1] + dx)\n",
        "    ylist.append(ylist[-1] + dy)\n",
        "    i += 1\n",
        "\n",
        "xrounded = []\n",
        "yrounded = []\n",
        "newxlist = []\n",
        "newylist = []\n",
        "\n",
        "for j in xlist:\n",
        "    xrounded.append(round(j))\n",
        "    newxlist.append(round(j,2))\n",
        "\n",
        "for j in ylist:\n",
        "    yrounded.append(round(j))\n",
        "    newylist.append(round(j,2))\n",
        "\n",
        "allvalues = {'k': k, 'X Values': newxlist, 'Y Values': newylist, 'X Rounded': xrounded, 'Y Rounded': yrounded}\n",
        "df = pd.DataFrame(allvalues)\n",
        "\n",
        "print(\"Your DDA Table:\")\n",
        "print(df)"
      ],
      "metadata": {
        "id": "alxpox-AJfKE"
      },
      "execution_count": null,
      "outputs": []
    }
  ]
}